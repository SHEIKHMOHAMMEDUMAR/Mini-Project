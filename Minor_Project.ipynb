{
  "nbformat": 4,
  "nbformat_minor": 0,
  "metadata": {
    "colab": {
      "name": "Minor_Project.ipynb",
      "private_outputs": true,
      "provenance": [],
      "mount_file_id": "1evdY7l_680-zJbT-40gyp2yCOB8Ntg3q",
      "authorship_tag": "ABX9TyNjVpdEIFSJBjvyjXkiUvAh",
      "include_colab_link": true
    },
    "kernelspec": {
      "name": "python3",
      "display_name": "Python 3"
    },
    "language_info": {
      "name": "python"
    },
    "accelerator": "GPU"
  },
  "cells": [
    {
      "cell_type": "markdown",
      "metadata": {
        "id": "view-in-github",
        "colab_type": "text"
      },
      "source": [
        "<a href=\"https://colab.research.google.com/github/SHEIKHMOHAMMEDUMAR/Mini-Project/blob/main/Minor_Project.ipynb\" target=\"_parent\"><img src=\"https://colab.research.google.com/assets/colab-badge.svg\" alt=\"Open In Colab\"/></a>"
      ]
    },
    {
      "cell_type": "code",
      "metadata": {
        "id": "U75NG2VbpP7o"
      },
      "source": [
        "!pip install ipython-autotime\n",
        "%load_ext autotime"
      ],
      "execution_count": null,
      "outputs": []
    },
    {
      "cell_type": "code",
      "metadata": {
        "id": "aBP6oSXKpEkd"
      },
      "source": [
        "import os\n",
        "import matplotlib.pyplot as plt\n",
        "import numpy as np\n",
        "from skimage.io import imread\n",
        "from skimage.transform import resize"
      ],
      "execution_count": null,
      "outputs": []
    },
    {
      "cell_type": "code",
      "metadata": {
        "id": "TNwuaV8wqVxK"
      },
      "source": [
        "#Data Collection and Preprocessing;\n",
        "\n",
        "target_name = []\n",
        "flat_data = []\n",
        "images = []\n",
        "\n",
        "DD= '/content/drive/MyDrive/Images'\n",
        "category = ['apple','ferrari','airplane']\n",
        "\n",
        "for c in category:\n",
        "  class_num = category.index(c)\n",
        "  path = os.path.join(DD,c)\n",
        "  for img in os.listdir(path):\n",
        "    img_a = imread(os.path.join(path,img))\n",
        "    img_r = resize(img_a,(150,150,3))\n",
        "    flat_data.append(img_r.flatten())\n",
        "    images.append(img_r)\n",
        "    target_name.append(class_num)\n",
        "\n",
        "flat_data = np.array(flat_data)\n",
        "target_name = np.array(target_name)\n",
        "images = np.array(images)"
      ],
      "execution_count": null,
      "outputs": []
    },
    {
      "cell_type": "code",
      "metadata": {
        "id": "HoDtzd2OriBP"
      },
      "source": [
        "#Spliting Dataset;\n",
        " \n",
        "from sklearn.model_selection import train_test_split\n",
        "x_train, x_test, y_train, y_test = train_test_split(flat_data, target_name,\n",
        "                                                    test_size=0.3, random_state=100)"
      ],
      "execution_count": null,
      "outputs": []
    },
    {
      "cell_type": "code",
      "metadata": {
        "id": "_YlCeO3OuzP1"
      },
      "source": [
        "#Model buliding\n",
        "\n",
        "from sklearn.model_selection import GridSearchCV\n",
        "from sklearn import svm\n",
        "p_g = [\n",
        "       {'C':[1,10,100,1000],'kernel':['linear']},\n",
        "       {'C':[1,10,100,1000],'gamma':[0.001,0.0001],'kernel':['rbf']},\n",
        "] \n",
        "svc = svm.SVC(probability = True)\n",
        "clf = GridSearchCV(svc, p_g)\n",
        "clf.fit(x_train, y_train)"
      ],
      "execution_count": null,
      "outputs": []
    },
    {
      "cell_type": "code",
      "metadata": {
        "id": "_c3Hp3UywXRc"
      },
      "source": [
        "y_p = clf.predict(x_test)\n",
        "y_p"
      ],
      "execution_count": null,
      "outputs": []
    },
    {
      "cell_type": "code",
      "metadata": {
        "id": "bPel095Kw18R"
      },
      "source": [
        "y_test"
      ],
      "execution_count": null,
      "outputs": []
    },
    {
      "cell_type": "code",
      "metadata": {
        "id": "6vnNcg51zu5-"
      },
      "source": [
        "from sklearn.metrics import accuracy_score, confusion_matrix"
      ],
      "execution_count": null,
      "outputs": []
    },
    {
      "cell_type": "code",
      "metadata": {
        "id": "AVPqki9o0EC5"
      },
      "source": [
        "accuracy_score(y_p, y_test)"
      ],
      "execution_count": null,
      "outputs": []
    },
    {
      "cell_type": "code",
      "metadata": {
        "id": "zgO9MQYp3uYa"
      },
      "source": [
        "confusion_matrix(y_p, y_test)"
      ],
      "execution_count": null,
      "outputs": []
    },
    {
      "cell_type": "code",
      "metadata": {
        "id": "442F5iZ799N6"
      },
      "source": [
        "import pickle\n",
        "pickle.dump(clf,open('img_model.p','wb'))"
      ],
      "execution_count": null,
      "outputs": []
    },
    {
      "cell_type": "code",
      "metadata": {
        "id": "8UYwAuPr-OOM"
      },
      "source": [
        "model = pickle.load(open('img_model.p','rb'))"
      ],
      "execution_count": null,
      "outputs": []
    },
    {
      "cell_type": "code",
      "metadata": {
        "id": "MBENhI9b-gPf"
      },
      "source": [
        "flat_data = []\n",
        "url = input('Enter your URL: ')\n",
        "img = imread(url)\n",
        "img_re = resize(img,(150,150,3))\n",
        "flat_data.append(img_re.flatten())\n",
        "flat_data = np.array(flat_data)\n",
        "print(img.shape)\n",
        "plt.imshow(img_re)\n",
        "y_out = model.predict(flat_data)\n",
        "y_out = category[y_out[0]]\n",
        "print(f'Predicted output: {y_out}')"
      ],
      "execution_count": null,
      "outputs": []
    },
    {
      "cell_type": "code",
      "metadata": {
        "id": "UHX-ezdCdeS-"
      },
      "source": [
        "!pip install streamlit\n",
        "!pip install pyngrok\n",
        "from pyngrok import ngrok"
      ],
      "execution_count": null,
      "outputs": []
    },
    {
      "cell_type": "code",
      "metadata": {
        "id": "7Q-OttWRcrST"
      },
      "source": [
        "%%writefile app.py\n",
        "import streamlit as st\n",
        "import numpy as np\n",
        "from skimage.io import imread\n",
        "from skimage.transform import resize\n",
        "import pickle\n",
        "from PIL import Image\n",
        "st.title('Image Classifier using Machine Learning')\n",
        "st.text('Upload a Image')\n",
        "model = pickle.load(open('img_model.p','rb'))\n",
        "u_f = st.file_uploader('Choose an Image...', type='jpg')\n",
        "if u_f is not None:\n",
        "  img = Image.open(u_f)\n",
        "  st.image(img, caption='Uploaded Image')\n",
        "\n",
        "  if st.button('PREDICT'):\n",
        "    category = ['apple','ferrari']  \n",
        "    st.write('Result...')\n",
        "    flat_data=[]\n",
        "    img = np.array(img)\n",
        "    img_re = resize(img,(150,150,3))\n",
        "    flat_data.append(img_re.flatten())\n",
        "    flat_data = np.array(flat_data)\n",
        "    y_out = model.predict(flat_data)\n",
        "    y_out = category[y_out[0]]\n",
        "    st.title(f'Predicted output: {y_out}')"
      ],
      "execution_count": null,
      "outputs": []
    }
  ]
}